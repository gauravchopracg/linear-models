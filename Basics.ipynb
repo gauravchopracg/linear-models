{
  "nbformat": 4,
  "nbformat_minor": 0,
  "metadata": {
    "colab": {
      "name": "Basics.ipynb",
      "provenance": [],
      "collapsed_sections": []
    },
    "kernelspec": {
      "name": "python3",
      "display_name": "Python 3"
    }
  },
  "cells": [
    {
      "cell_type": "code",
      "metadata": {
        "id": "gUsIUfQ6ELs3",
        "colab_type": "code",
        "colab": {}
      },
      "source": [
        "import numpy as np\n",
        "import matplotlib.pyplot as plt"
      ],
      "execution_count": 0,
      "outputs": []
    },
    {
      "cell_type": "code",
      "metadata": {
        "id": "rfPHRHv8MZhy",
        "colab_type": "code",
        "colab": {}
      },
      "source": [
        "def read_data(csv_file):\n",
        "  points = np.genfromtxt(csv_file, delimiter=\",\")\n",
        "  X = points[:,0] # x points\n",
        "  Y = points[:,1] # y points\n",
        "  return X, Y\n",
        "\n",
        "def initial_parameter(w0, w1):\n",
        "  '''\n",
        "  Initialize paramters for model to learn\n",
        "  '''\n",
        "  return w0, w1\n",
        "\n",
        "def f(w0, w1, X):\n",
        "  y = np.zeros(X.shape[0])\n",
        "  for i in range(len(X)):\n",
        "    y[i] = w0 + w1*X[i]\n",
        "  return y\n",
        "\n",
        "def calculate_error(y_pred, y):\n",
        "  '''\n",
        "  sum of squared errors\n",
        "  '''\n",
        "  errors = 0\n",
        "  for i in range(0, len(y_pred)):\n",
        "    difference = y_pred[i]-y[i] # for every point\n",
        "    square = difference**2\n",
        "    errors += square\n",
        "  return errors/float(len(y_pred))\n",
        "\n",
        "def update(X, Y, w0, w1, learning_rate):\n",
        "  dw0 = 0 # derivate of error with respect to intercept\n",
        "  dw1 = 0 # derivate of error with respect to slope\n",
        "  N = float(len(X))\n",
        "  Y_pred = np.zeros(Y.shape)\n",
        "  for i in range(int(N)):\n",
        "    Y_pred[i] = w0+w1*X[i]\n",
        "  for i in range(0, int(N)):\n",
        "    x = X[i] # x-point\n",
        "    y = Y[i] # y-point\n",
        "    y_pre = Y_pred[i]\n",
        "    dw0 += -(2/N) * (y-y_pre) # update dE/dw0 gradient\n",
        "    dw1 += -(2/N) * x * (y-y_pre) # update dE/dw1 gradient\n",
        "  # update weights\n",
        "  w0 = w0 - (learning_rate*dw0)\n",
        "  w1 = w1 - (learning_rate*dw1)\n",
        "  return w0, w1"
      ],
      "execution_count": 0,
      "outputs": []
    },
    {
      "cell_type": "code",
      "metadata": {
        "id": "17uRgiWoL98j",
        "colab_type": "code",
        "colab": {}
      },
      "source": [
        "# train\n",
        "X, Y = read_data(\"data.csv\")\n",
        "w0, w1 = initial_parameter(0, 0)"
      ],
      "execution_count": 0,
      "outputs": []
    },
    {
      "cell_type": "code",
      "metadata": {
        "id": "QeHPjEsYL-kv",
        "colab_type": "code",
        "colab": {
          "base_uri": "https://localhost:8080/",
          "height": 34
        },
        "outputId": "18bf6db5-7a01-4d72-f880-c4003339a559"
      },
      "source": [
        "X_train = X[:-20].reshape(80, 1)\n",
        "X_test = X[-20:].reshape(20, 1)\n",
        "print(X_train.shape, X_test.shape)"
      ],
      "execution_count": 4,
      "outputs": [
        {
          "output_type": "stream",
          "text": [
            "(80, 1) (20, 1)\n"
          ],
          "name": "stdout"
        }
      ]
    },
    {
      "cell_type": "code",
      "metadata": {
        "id": "Bz8bFzEyMrH-",
        "colab_type": "code",
        "colab": {
          "base_uri": "https://localhost:8080/",
          "height": 34
        },
        "outputId": "49ef2ef3-3791-459b-b558-e01048b5694b"
      },
      "source": [
        "y_train = Y[:-20]\n",
        "y_test = Y[-20:]\n",
        "print(y_train.shape, y_test.shape)"
      ],
      "execution_count": 5,
      "outputs": [
        {
          "output_type": "stream",
          "text": [
            "(80,) (20,)\n"
          ],
          "name": "stdout"
        }
      ]
    },
    {
      "cell_type": "code",
      "metadata": {
        "id": "QIt6UUC8Ms1T",
        "colab_type": "code",
        "colab": {
          "base_uri": "https://localhost:8080/",
          "height": 34
        },
        "outputId": "cc050846-07f9-40db-fc1b-8672f7361231"
      },
      "source": [
        "y_pred = f(w0, w1, X_train)\n",
        "error = calculate_error(y_pred, y_train)\n",
        "print(error)"
      ],
      "execution_count": 6,
      "outputs": [
        {
          "output_type": "stream",
          "text": [
            "5374.779987075437\n"
          ],
          "name": "stdout"
        }
      ]
    },
    {
      "cell_type": "code",
      "metadata": {
        "id": "NEOhZ512Mujb",
        "colab_type": "code",
        "colab": {
          "base_uri": "https://localhost:8080/",
          "height": 1000
        },
        "outputId": "e37126a0-b5fc-4b77-cb75-b4e89d7c7f4a"
      },
      "source": [
        "num_iterations = 100\n",
        "learning_rate = 0.0001\n",
        "for i in range(num_iterations):\n",
        "  w0, w1 = update(X_train, y_train, w0, w1, learning_rate)\n",
        "  y_pred = f(w0, w1, X_train)\n",
        "  error = calculate_error(y_pred, y_train)\n",
        "  print(\"Iteration: %d, error: %0.5f\" % (i, error))"
      ],
      "execution_count": 7,
      "outputs": [
        {
          "output_type": "stream",
          "text": [
            "Iteration: 0, error: 1465.42908\n",
            "Iteration: 1, error: 461.81644\n",
            "Iteration: 2, error: 204.16796\n",
            "Iteration: 3, error: 138.02416\n",
            "Iteration: 4, error: 121.04365\n",
            "Iteration: 5, error: 116.68439\n",
            "Iteration: 6, error: 115.56526\n",
            "Iteration: 7, error: 115.27795\n",
            "Iteration: 8, error: 115.20419\n",
            "Iteration: 9, error: 115.18524\n",
            "Iteration: 10, error: 115.18037\n",
            "Iteration: 11, error: 115.17911\n",
            "Iteration: 12, error: 115.17878\n",
            "Iteration: 13, error: 115.17869\n",
            "Iteration: 14, error: 115.17865\n",
            "Iteration: 15, error: 115.17864\n",
            "Iteration: 16, error: 115.17862\n",
            "Iteration: 17, error: 115.17861\n",
            "Iteration: 18, error: 115.17860\n",
            "Iteration: 19, error: 115.17859\n",
            "Iteration: 20, error: 115.17858\n",
            "Iteration: 21, error: 115.17857\n",
            "Iteration: 22, error: 115.17856\n",
            "Iteration: 23, error: 115.17855\n",
            "Iteration: 24, error: 115.17853\n",
            "Iteration: 25, error: 115.17852\n",
            "Iteration: 26, error: 115.17851\n",
            "Iteration: 27, error: 115.17850\n",
            "Iteration: 28, error: 115.17849\n",
            "Iteration: 29, error: 115.17848\n",
            "Iteration: 30, error: 115.17847\n",
            "Iteration: 31, error: 115.17846\n",
            "Iteration: 32, error: 115.17845\n",
            "Iteration: 33, error: 115.17844\n",
            "Iteration: 34, error: 115.17842\n",
            "Iteration: 35, error: 115.17841\n",
            "Iteration: 36, error: 115.17840\n",
            "Iteration: 37, error: 115.17839\n",
            "Iteration: 38, error: 115.17838\n",
            "Iteration: 39, error: 115.17837\n",
            "Iteration: 40, error: 115.17836\n",
            "Iteration: 41, error: 115.17835\n",
            "Iteration: 42, error: 115.17834\n",
            "Iteration: 43, error: 115.17832\n",
            "Iteration: 44, error: 115.17831\n",
            "Iteration: 45, error: 115.17830\n",
            "Iteration: 46, error: 115.17829\n",
            "Iteration: 47, error: 115.17828\n",
            "Iteration: 48, error: 115.17827\n",
            "Iteration: 49, error: 115.17826\n",
            "Iteration: 50, error: 115.17825\n",
            "Iteration: 51, error: 115.17824\n",
            "Iteration: 52, error: 115.17822\n",
            "Iteration: 53, error: 115.17821\n",
            "Iteration: 54, error: 115.17820\n",
            "Iteration: 55, error: 115.17819\n",
            "Iteration: 56, error: 115.17818\n",
            "Iteration: 57, error: 115.17817\n",
            "Iteration: 58, error: 115.17816\n",
            "Iteration: 59, error: 115.17815\n",
            "Iteration: 60, error: 115.17814\n",
            "Iteration: 61, error: 115.17812\n",
            "Iteration: 62, error: 115.17811\n",
            "Iteration: 63, error: 115.17810\n",
            "Iteration: 64, error: 115.17809\n",
            "Iteration: 65, error: 115.17808\n",
            "Iteration: 66, error: 115.17807\n",
            "Iteration: 67, error: 115.17806\n",
            "Iteration: 68, error: 115.17805\n",
            "Iteration: 69, error: 115.17804\n",
            "Iteration: 70, error: 115.17803\n",
            "Iteration: 71, error: 115.17801\n",
            "Iteration: 72, error: 115.17800\n",
            "Iteration: 73, error: 115.17799\n",
            "Iteration: 74, error: 115.17798\n",
            "Iteration: 75, error: 115.17797\n",
            "Iteration: 76, error: 115.17796\n",
            "Iteration: 77, error: 115.17795\n",
            "Iteration: 78, error: 115.17794\n",
            "Iteration: 79, error: 115.17793\n",
            "Iteration: 80, error: 115.17791\n",
            "Iteration: 81, error: 115.17790\n",
            "Iteration: 82, error: 115.17789\n",
            "Iteration: 83, error: 115.17788\n",
            "Iteration: 84, error: 115.17787\n",
            "Iteration: 85, error: 115.17786\n",
            "Iteration: 86, error: 115.17785\n",
            "Iteration: 87, error: 115.17784\n",
            "Iteration: 88, error: 115.17783\n",
            "Iteration: 89, error: 115.17781\n",
            "Iteration: 90, error: 115.17780\n",
            "Iteration: 91, error: 115.17779\n",
            "Iteration: 92, error: 115.17778\n",
            "Iteration: 93, error: 115.17777\n",
            "Iteration: 94, error: 115.17776\n",
            "Iteration: 95, error: 115.17775\n",
            "Iteration: 96, error: 115.17774\n",
            "Iteration: 97, error: 115.17773\n",
            "Iteration: 98, error: 115.17772\n",
            "Iteration: 99, error: 115.17770\n"
          ],
          "name": "stdout"
        }
      ]
    },
    {
      "cell_type": "code",
      "metadata": {
        "id": "E-lbN1-KMwoQ",
        "colab_type": "code",
        "colab": {
          "base_uri": "https://localhost:8080/",
          "height": 34
        },
        "outputId": "77a0ed97-355e-49f7-9ba5-4719e060b96f"
      },
      "source": [
        "print(w0, w1)"
      ],
      "execution_count": 8,
      "outputs": [
        {
          "output_type": "stream",
          "text": [
            "0.03219781286819278 [1.45989297]\n"
          ],
          "name": "stdout"
        }
      ]
    },
    {
      "cell_type": "code",
      "metadata": {
        "id": "CnS_e-FzMzBH",
        "colab_type": "code",
        "colab": {
          "base_uri": "https://localhost:8080/",
          "height": 252
        },
        "outputId": "4c934b3a-c7d4-4e51-ba75-54f38a5cea2f"
      },
      "source": [
        "pred = f(w0, w1, X_test)\n",
        "plt.scatter(X_test, y_test, color='black')\n",
        "plt.plot(X_test, pred, color='blue', linewidth=3)\n",
        "plt.xticks(())\n",
        "plt.yticks(())\n",
        "plt.show();"
      ],
      "execution_count": 9,
      "outputs": [
        {
          "output_type": "display_data",
          "data": {
            "image/png": "[encoded data removed]",
            "text/plain": [
              "<Figure size 432x288 with 1 Axes>"
            ]
          },
          "metadata": {
            "tags": []
          }
        }
      ]
    },
    {
      "cell_type": "markdown",
      "metadata": {
        "id": "p_ZgmJMuNIYG",
        "colab_type": "text"
      },
      "source": [
        "With linear regression:\n",
        "==="
      ]
    },
    {
      "cell_type": "code",
      "metadata": {
        "id": "LyOvUFCcM_TI",
        "colab_type": "code",
        "colab": {
          "base_uri": "https://localhost:8080/",
          "height": 337
        },
        "outputId": "14ad51b3-ae91-421a-98c8-0b3b36869a89"
      },
      "source": [
        "print(__doc__)\n",
        "\n",
        "\n",
        "# Code source: Jaques Grobler\n",
        "# License: BSD 3 clause\n",
        "\n",
        "\n",
        "import matplotlib.pyplot as plt\n",
        "import numpy as np\n",
        "from sklearn import datasets, linear_model\n",
        "from sklearn.metrics import mean_squared_error, r2_score\n",
        "\n",
        "# Load the diabetes dataset\n",
        "X, Y = read_data(\"data.csv\")\n",
        "\n",
        "# Split the data into training/testing sets\n",
        "X_train = X[:-20].reshape(80, 1)\n",
        "X_test = X[-20:].reshape(20, 1)\n",
        "\n",
        "# Split the targets into training/testing sets\n",
        "y_train = Y[:-20]\n",
        "y_test = Y[-20:]\n",
        "\n",
        "# Create linear regression object\n",
        "regr = linear_model.LinearRegression()\n",
        "\n",
        "# Train the model using the training sets\n",
        "regr.fit(X_train, y_train)\n",
        "\n",
        "# Make predictions using the testing set\n",
        "y_pred = regr.predict(X_test)\n",
        "\n",
        "# The coefficients\n",
        "print('Coefficients: \\n', regr.coef_)\n",
        "# The mean squared error\n",
        "print('Mean squared error: %.2f'\n",
        "      % mean_squared_error(y_test, y_pred))\n",
        "# The coefficient of determination: 1 is perfect prediction\n",
        "print('Coefficient of determination: %.2f'\n",
        "      % r2_score(y_test, y_pred))\n",
        "\n",
        "# Plot outputs\n",
        "plt.scatter(X_test, y_test,  color='black')\n",
        "plt.plot(X_test, y_pred, color='blue', linewidth=3)\n",
        "\n",
        "plt.xticks(())\n",
        "plt.yticks(())\n",
        "\n",
        "plt.show()"
      ],
      "execution_count": 10,
      "outputs": [
        {
          "output_type": "stream",
          "text": [
            "Automatically created module for IPython interactive environment\n",
            "Coefficients: \n",
            " [1.36821478]\n",
            "Mean squared error: 100.49\n",
            "Coefficient of determination: 0.54\n"
          ],
          "name": "stdout"
        },
        {
          "output_type": "display_data",
          "data": {
            "image/png": "[encoded data removed]",
            "text/plain": [
              "<Figure size 432x288 with 1 Axes>"
            ]
          },
          "metadata": {
            "tags": []
          }
        }
      ]
    },
    {
      "cell_type": "code",
      "metadata": {
        "id": "vpPHLNaDNMHG",
        "colab_type": "code",
        "colab": {}
      },
      "source": [
        ""
      ],
      "execution_count": 0,
      "outputs": []
    }
  ]
}